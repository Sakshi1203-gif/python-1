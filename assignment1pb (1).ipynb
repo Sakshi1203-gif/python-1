{
  "nbformat": 4,
  "nbformat_minor": 0,
  "metadata": {
    "colab": {
      "provenance": []
    },
    "kernelspec": {
      "name": "python3",
      "display_name": "Python 3"
    },
    "language_info": {
      "name": "python"
    }
  },
  "cells": [
    {
      "cell_type": "markdown",
      "source": [
        "1. what is Python, and why is it popular\n",
        "\n",
        "  -ans:Python is a high-level, easy-to-learn programming language known for its simplicity and readability. It's popular because it's versatile (used in web development, data science, automation, and more), has a large supportive community, and offers a rich set of libraries and frameworks. Its simple syntax, cross-platform compatibility, and ability to handle complex tasks with less code make it a favorite among both beginners and experienced developers."
      ],
      "metadata": {
        "id": "WJaHVH4QMSjV"
      }
    },
    {
      "cell_type": "markdown",
      "source": [
        "2.What is an interpreter in Python\n",
        "\n",
        "   -ans:An interpreter in Python is a program that reads and executes Python code line by line. Unlike a compiler, which translates the entire code into machine language before execution, an interpreter directly executes the instructions in the code."
      ],
      "metadata": {
        "id": "8hx3vIcVMy2-"
      }
    },
    {
      "cell_type": "markdown",
      "source": [
        "3. What are pre-defined keywords in Python\n",
        "\n",
        "   -ans:Pre-defined keywords in Python are reserved words that have a special meaning and function within the language. They cannot be used as identifiers (such as variable names, function names, etc.) because they are reserved for specific syntactic purposes."
      ],
      "metadata": {
        "id": "zh4tr1wrM7vb"
      }
    },
    {
      "cell_type": "markdown",
      "source": [
        "4.Can keywords be used as variable names\n",
        "\n",
        "  -ans:No, keywords in Python cannot be used as variable names. Keywords are reserved by the Python language for specific syntactic purposes, and trying to use them as identifiers (such as variable names, function names, etc.) will result in a syntax error."
      ],
      "metadata": {
        "id": "lw8n4AZENI_u"
      }
    },
    {
      "cell_type": "markdown",
      "source": [
        "5.What is mutability in Python\n",
        "\n",
        "  -ans:Mutability in Python refers to whether an object's state (its contents or value) can be changed after it is created.\n",
        "\n",
        "Mutable objects can have their content or state modified after they are created."
      ],
      "metadata": {
        "id": "2SPRRu8aNSaS"
      }
    },
    {
      "cell_type": "markdown",
      "source": [
        "6.Why are lists mutable, but tuples are immutable\n",
        "\n",
        "   -ans:list=Lists are often used when you need to store and manipulate data that can change, such as appending items, modifying elements, or sorting the list.\n",
        "\n",
        "tuple=Tuples are designed to represent fixed, unchangeable collections of items. They are intended for cases where you want to ensure that the data remains constant, such as storing coordinates, configurations, or fixed sets of values."
      ],
      "metadata": {
        "id": "vM0YGWqGNZyJ"
      }
    },
    {
      "cell_type": "markdown",
      "source": [
        "7.What is the difference between “==” and “is” operators in Python\n",
        "\n",
        "   -ans:== (Equality Operator):Purpose: Checks if the values of two objects are equal.\n",
        "\n",
        "Usage: It compares the contents of the objects (i.e., whether the values inside the objects are the same)\n",
        "\n",
        "\n",
        " is (Identity Operator):Purpose: Checks if two variables refer to the same object in memory (i.e., if they have the same identity).\n",
        "  \n",
        "Usage: It compares the memory addresses of the objects to see if they are the same object, not just if they have the same value.\n",
        "  \n",
        "    "
      ],
      "metadata": {
        "id": "q2q1_jRlPNEm"
      }
    },
    {
      "cell_type": "markdown",
      "source": [
        "8.What are logical operators in Python\n",
        "\n",
        "  -ans:logical operators are used to combine conditional statements and evaluate expressions based on boolean logic. The three main logical operators are:\n",
        "\n",
        "1)and (Logical AND)\n",
        "Purpose: Returns True if both operands (conditions) are True; otherwise, it returns False.\n",
        "Usage: It is used when you need both conditions to be true for the overall expression to be true.\n",
        "\n",
        "2)or (Logical OR)\n",
        "Purpose: Returns True if at least one of the operands (conditions) is True; otherwise, it returns False.\n",
        "Usage: It is used when you need at least one condition to be true for the overall expression to be true.\n",
        "\n",
        "3)not (Logical NOT)\n",
        "Purpose: Reverses (negates) the boolean value of the operand. If the condition is True, it returns False, and if the condition is False, it returns True.\n",
        "Usage: It is used to invert the truth value of a condition."
      ],
      "metadata": {
        "id": "TfPQlfwYPdau"
      }
    },
    {
      "cell_type": "markdown",
      "source": [
        "9.What is type casting in Python\n",
        "\n",
        "  -ans:Type casting in Python is the process of converting one data type to another."
      ],
      "metadata": {
        "id": "g5M7F3WjPqVm"
      }
    },
    {
      "cell_type": "markdown",
      "source": [
        "10.What is the difference between implicit and explicit type casting\n",
        "\n",
        "  -ans:\n",
        "1)Implicit Type Casting (Automatic Conversion):\n",
        "-Performed by Python automatically.\n",
        "-Occurs when Python automatically converts a smaller data type to a -larger one to avoid data loss.\n",
        "-Happens implicitly when performing operations that require different types, like adding an integer to a float.\n",
        "\n",
        "2)Explicit Type Casting (Manual Conversion):\n",
        "-Performed by the programmer.\n",
        "-The programmer explicitly converts one data type into another using -functions like int(), float(), str(), etc.\n",
        "-The programmer decides when and how to convert types."
      ],
      "metadata": {
        "id": "EfqAm8jYP1NA"
      }
    },
    {
      "cell_type": "markdown",
      "source": [
        "11.What is the purpose of conditional statements in Python\n",
        "\n",
        "  -ans:The purpose of conditional statements in Python is to allow the program to make decisions based on certain conditions. They enable the program to execute specific blocks of code depending on whether a condition is True or False. This makes the program more dynamic and capable of responding to different inputs or situations."
      ],
      "metadata": {
        "id": "eeie7NSoQAGC"
      }
    },
    {
      "cell_type": "markdown",
      "source": [
        "12.How does the elif statement work\n",
        "\n",
        "  -ans:The if statement is evaluated first.\n",
        "-If the condition of the if statement is True, the block of code under if is executed, and the remaining elif or else blocks are skipped.\n",
        "\n",
        "-If the condition of the if statement is False, the program will check the next elif condition.\n",
        "\n",
        "-If none of the if or elif conditions are True, the else block (if present) will be executed."
      ],
      "metadata": {
        "id": "X7Zta6lyQJXR"
      }
    },
    {
      "cell_type": "markdown",
      "source": [
        "13.What is the difference between for and while loops\n",
        "\n",
        "   -ans:\n",
        "For Loop:\n",
        "Usage: The for loop is typically used when the number of iterations is known or can be determined before the loop starts.\n",
        "Structure: It generally includes an initialization step, a condition (expression), and an increment/decrement step in one line.\n",
        "\n",
        "While Loop:\n",
        "Usage: The while loop is used when the number of iterations is not known beforehand, and the loop continues as long as a specific condition is true.\n",
        "Structure: It only includes a condition that must evaluate to True for the loop to continue.\n",
        "\n",
        "Use a for loop when you know beforehand how many times the loop should run.\n",
        "Use a while loop when you need the loop to continue running based on a condition that might change during execution.\n",
        "\n",
        "\n",
        "\n",
        "    "
      ],
      "metadata": {
        "id": "XHPg-1RaQWRH"
      }
    },
    {
      "cell_type": "markdown",
      "source": [
        "14. Describe a scenario where a while loop is more suitable than a for loop.\n",
        "\n",
        "  -A while loop is more suitable than a for loop when the number of iterations is unknown and depends on a condition that may change during execution.\n",
        "\n",
        "For example, in a scenario where you need to repeatedly ask a user for valid input (like a password) until they enter the correct format, the while loop will continue running as long as the condition (valid input) is not met, making it ideal for such situations.\n",
        "\n",
        "\n",
        "\n"
      ],
      "metadata": {
        "id": "CPTv4Q8FQeZz"
      }
    }
  ]
}